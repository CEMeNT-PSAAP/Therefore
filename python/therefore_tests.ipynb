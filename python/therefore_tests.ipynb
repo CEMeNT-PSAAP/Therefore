{
 "cells": [
  {
   "cell_type": "markdown",
   "id": "8a5fb2f6",
   "metadata": {},
   "source": [
    "# Test Problems\n",
    "\n",
    "Plotting scripts that run the *therefore* project code which implements simple corner balance method with numba acceleration!"
   ]
  },
  {
   "cell_type": "code",
   "execution_count": 1,
   "id": "346c16fa",
   "metadata": {},
   "outputs": [],
   "source": [
    "import therefore\n",
    "import numpy as np\n",
    "import matplotlib.pyplot as plt\n",
    "\n",
    "\n",
    "def flatLinePlot(x, y):\n",
    "    for i in range(y.size):\n",
    "        xx = x[i:i+2]\n",
    "        yy = [y[i], y[i]]\n",
    "        plt.plot(xx, yy, '-k')"
   ]
  },
  {
   "cell_type": "code",
   "execution_count": 2,
   "id": "25470e31",
   "metadata": {},
   "outputs": [
    {
     "name": "stdout",
     "output_type": "stream",
     "text": [
      "\n",
      "|  ______    __  __    ______    ____     ______    ______   ____     ____     ______\n",
      "| /_  __/   / / / /   / ____/   / __ \\   / ____/   / ____/  / __ \\   / __ \\   / ____/\n",
      "|  / /     / /_/ /   / __/     / /_/ /  / __/     / /_     / / / /  / /_/ /  / __/\n",
      "| / /     / __  /   / /___    / _, _/  / /___    / __/    / /_/ /  / _, _/  / /__\n",
      "|/_/     /_/ /_/   /_____/   /_/ |_|  /_____/   /_/       \\____/  /_/ |_|  /_____/\n",
      "\n",
      "A Python Based Simplified Corner Balence Code\n",
      "Author: Jackson P. Morgan\n",
      "Prof:   Todd S. Palmer\n",
      "Date:   May 9th 2022\n",
      "\n",
      "\n",
      "\n",
      "\n",
      "Next Itteration: 3\r"
     ]
    },
    {
     "data": {
      "image/png": "[encoded data removed]",
      "text/plain": [
       "<Figure size 432x288 with 1 Axes>"
      ]
     },
     "metadata": {
      "needs_background": "light"
     },
     "output_type": "display_data"
    },
    {
     "data": {
      "image/png": "[encoded data removed]",
      "text/plain": [
       "<Figure size 432x288 with 1 Axes>"
      ]
     },
     "metadata": {
      "needs_background": "light"
     },
     "output_type": "display_data"
    }
   ],
   "source": [
    "# uniform infinite medium \n",
    "\n",
    "data_type = np.float64\n",
    "\n",
    "L = 1\n",
    "dx = .01\n",
    "xsec = 10\n",
    "ratio = 0\n",
    "scattering_xsec = xsec*ratio\n",
    "source = 10\n",
    "N_mesh = int(L/dx)\n",
    "\n",
    "dx_mesh = dx*np.ones(N_mesh, data_type)\n",
    "xsec_mesh = xsec*np.ones(N_mesh, data_type)\n",
    "xsec_scatter_mesh = scattering_xsec*np.ones(N_mesh, data_type)\n",
    "source_mesh = source*np.ones(N_mesh, data_type)\n",
    "\n",
    "\n",
    "sim_perams1 = {'data_type': data_type,\n",
    "              'N_angles': 4,\n",
    "              'L': L,\n",
    "              'N_mesh': N_mesh,\n",
    "              'boundary_condition_left': 'reflecting',\n",
    "              'boundary_condition_right': 'reflecting',\n",
    "              'left_in_mag': 0,\n",
    "              'right_in_mag': 0,\n",
    "              'left_in_angle': 0,\n",
    "              'right_in_angle': 0}\n",
    "\n",
    "\n",
    "[scalar_flux, current] = therefore.SourceItteration(sim_perams1, dx_mesh, xsec_mesh, xsec_scatter_mesh, source_mesh)\n",
    "\n",
    "f=1\n",
    "X = np.linspace(0, L, int(N_mesh*2+1))\n",
    "plt.figure(f)\n",
    "flatLinePlot(X, scalar_flux)\n",
    "plt.title('Infinte Med')\n",
    "plt.xlabel('Distance')\n",
    "plt.ylabel('Scalar Flux')\n",
    "plt.show()\n",
    "\n",
    "f+=1\n",
    "plt.figure(f)\n",
    "plt.title('Infinte Med')\n",
    "plt.xlabel('Distance')\n",
    "plt.ylabel('Current')\n",
    "plt.ylim([-1,1])\n",
    "flatLinePlot(X, current)\n",
    "plt.show()\n"
   ]
  },
  {
   "cell_type": "code",
   "execution_count": 3,
   "id": "0294876b",
   "metadata": {},
   "outputs": [
    {
     "name": "stdout",
     "output_type": "stream",
     "text": [
      "\n",
      "|  ______    __  __    ______    ____     ______    ______   ____     ____     ______\n",
      "| /_  __/   / / / /   / ____/   / __ \\   / ____/   / ____/  / __ \\   / __ \\   / ____/\n",
      "|  / /     / /_/ /   / __/     / /_/ /  / __/     / /_     / / / /  / /_/ /  / __/\n",
      "| / /     / __  /   / /___    / _, _/  / /___    / __/    / /_/ /  / _, _/  / /__\n",
      "|/_/     /_/ /_/   /_____/   /_/ |_|  /_____/   /_/       \\____/  /_/ |_|  /_____/\n",
      "\n",
      "A Python Based Simplified Corner Balence Code\n",
      "Author: Jackson P. Morgan\n",
      "Prof:   Todd S. Palmer\n",
      "Date:   May 9th 2022\n",
      "\n",
      "\n",
      "\n",
      "\n",
      "Next Itteration: 0\r",
      "Next Itteration: 1\r"
     ]
    },
    {
     "data": {
      "image/png": "[encoded data removed]",
      "text/plain": [
       "<Figure size 432x288 with 1 Axes>"
      ]
     },
     "metadata": {
      "needs_background": "light"
     },
     "output_type": "display_data"
    },
    {
     "data": {
      "image/png": "[encoded data removed]",
      "text/plain": [
       "<Figure size 432x288 with 1 Axes>"
      ]
     },
     "metadata": {
      "needs_background": "light"
     },
     "output_type": "display_data"
    }
   ],
   "source": [
    "# source free pure absorber\n",
    "\n",
    "sim_perams2 = {'data_type': data_type,\n",
    "              'N_angles': 4,\n",
    "              'L': L,\n",
    "              'N_mesh': N_mesh,\n",
    "              'boundary_condition_left': 'incident_iso',\n",
    "              'boundary_condition_right': 'vacuum',\n",
    "              'left_in_mag': 10,\n",
    "              'right_in_mag': 10,\n",
    "              'left_in_angle': 0,\n",
    "              'right_in_angle': 0}\n",
    "\n",
    "source_mesh = np.zeros(N_mesh, data_type)\n",
    "\n",
    "[scalar_flux, current] = therefore.SourceItteration(sim_perams2, dx_mesh, xsec_mesh, xsec_scatter_mesh, source_mesh)\n",
    "\n",
    "X = np.linspace(0, L, int(N_mesh*2+1))\n",
    "f+=1\n",
    "plt.figure(f)\n",
    "plt.title('Source Free Pure Absorber')\n",
    "plt.xlabel('Distance')\n",
    "plt.ylabel('Scalar Flux')\n",
    "flatLinePlot(X, scalar_flux)\n",
    "plt.show()\n",
    "\n",
    "f+=1\n",
    "plt.figure(f)\n",
    "plt.title('Source Free Pure Absorber')\n",
    "plt.xlabel('Distance')\n",
    "plt.ylabel('Current')\n",
    "flatLinePlot(X, current)\n",
    "plt.show()"
   ]
  },
  {
   "cell_type": "code",
   "execution_count": 4,
   "id": "9d85c58c",
   "metadata": {},
   "outputs": [
    {
     "name": "stdout",
     "output_type": "stream",
     "text": [
      "\n",
      "|  ______    __  __    ______    ____     ______    ______   ____     ____     ______\n",
      "| /_  __/   / / / /   / ____/   / __ \\   / ____/   / ____/  / __ \\   / __ \\   / ____/\n",
      "|  / /     / /_/ /   / __/     / /_/ /  / __/     / /_     / / / /  / /_/ /  / __/\n",
      "| / /     / __  /   / /___    / _, _/  / /___    / __/    / /_/ /  / _, _/  / /__\n",
      "|/_/     /_/ /_/   /_____/   /_/ |_|  /_____/   /_/       \\____/  /_/ |_|  /_____/\n",
      "\n",
      "A Python Based Simplified Corner Balence Code\n",
      "Author: Jackson P. Morgan\n",
      "Prof:   Todd S. Palmer\n",
      "Date:   May 9th 2022\n",
      "\n",
      "\n",
      "\n",
      "\n",
      "Next Itteration: 5449\r"
     ]
    },
    {
     "data": {
      "image/png": "[encoded data removed]",
      "text/plain": [
       "<Figure size 432x288 with 1 Axes>"
      ]
     },
     "metadata": {
      "needs_background": "light"
     },
     "output_type": "display_data"
    },
    {
     "data": {
      "image/png": "[encoded data removed]",
      "text/plain": [
       "<Figure size 432x288 with 1 Axes>"
      ]
     },
     "metadata": {
      "needs_background": "light"
     },
     "output_type": "display_data"
    }
   ],
   "source": [
    "#source free half space\n",
    "\n",
    "L = 10\n",
    "dx = .1\n",
    "xsec = 10\n",
    "ratio = .999\n",
    "scattering_xsec = xsec*ratio\n",
    "source = 0\n",
    "N_mesh = int(L/dx)\n",
    "\n",
    "dx_mesh = dx*np.ones(N_mesh, data_type)\n",
    "xsec_mesh = xsec*np.ones(N_mesh, data_type)\n",
    "xsec_scatter_mesh = scattering_xsec*np.ones(N_mesh, data_type)\n",
    "source_mesh = source*np.ones(N_mesh, data_type)\n",
    "\n",
    "\n",
    "sim_perams3 = {'data_type': data_type,\n",
    "              'N_angles': 4,\n",
    "              'L': L,\n",
    "              'N_mesh': N_mesh,\n",
    "              'boundary_condition_left': 'incident_iso',\n",
    "              'boundary_condition_right': 'incident_iso',\n",
    "              'left_in_mag': 10,\n",
    "              'right_in_mag': 10,\n",
    "              'left_in_angle': 0,\n",
    "              'right_in_angle': 0}\n",
    "\n",
    "scattering_xsec = .999*xsec\n",
    "source_mesh = np.zeros(N_mesh, data_type)\n",
    "xsec_scatter_mesh = scattering_xsec*np.ones(N_mesh, data_type)\n",
    "\n",
    "\n",
    "[scalar_flux, current] = therefore.SourceItteration(sim_perams3, dx_mesh, xsec_mesh, xsec_scatter_mesh, source_mesh)\n",
    "\n",
    "X = np.linspace(0, L, int(N_mesh*2+1))\n",
    "f+=1\n",
    "plt.figure(f)\n",
    "plt.title('Source Free Half Space')\n",
    "plt.xlabel('Distance')\n",
    "plt.ylabel('Scalar Flux')\n",
    "plt.ylim([0,max(scalar_flux)*1.5])\n",
    "flatLinePlot(X, scalar_flux)\n",
    "plt.show()\n",
    "\n",
    "\n",
    "f+=1\n",
    "plt.figure(f)\n",
    "plt.title('Source Free Half Space')\n",
    "plt.xlabel('Distance')\n",
    "plt.ylabel('Current')\n",
    "flatLinePlot(X, current)\n",
    "plt.show()"
   ]
  },
  {
   "cell_type": "markdown",
   "id": "d458676c",
   "metadata": {},
   "source": [
    "# Problem 1a\n",
    "\n",
    "\n",
    "Strong absober homogenious region with a coherent incident beam of neutrons on the left edge and a reflecting condition on the right"
   ]
  },
  {
   "cell_type": "code",
   "execution_count": 6,
   "id": "0f0a0b11",
   "metadata": {},
   "outputs": [
    {
     "name": "stdout",
     "output_type": "stream",
     "text": [
      "\n",
      "|  ______    __  __    ______    ____     ______    ______   ____     ____     ______\n",
      "| /_  __/   / / / /   / ____/   / __ \\   / ____/   / ____/  / __ \\   / __ \\   / ____/\n",
      "|  / /     / /_/ /   / __/     / /_/ /  / __/     / /_     / / / /  / /_/ /  / __/\n",
      "| / /     / __  /   / /___    / _, _/  / /___    / __/    / /_/ /  / _, _/  / /__\n",
      "|/_/     /_/ /_/   /_____/   /_/ |_|  /_____/   /_/       \\____/  /_/ |_|  /_____/\n",
      "\n",
      "A Python Based Simplified Corner Balence Code\n",
      "Author: Jackson P. Morgan\n",
      "Prof:   Todd S. Palmer\n",
      "Date:   May 9th 2022\n",
      "\n",
      "\n",
      "\n",
      "\n",
      "Next Itteration: 1701\r"
     ]
    },
    {
     "data": {
      "image/png": "[encoded data removed]",
      "text/plain": [
       "<Figure size 432x288 with 1 Axes>"
      ]
     },
     "metadata": {
      "needs_background": "light"
     },
     "output_type": "display_data"
    },
    {
     "data": {
      "image/png": "[encoded data removed]",
      "text/plain": [
       "<Figure size 432x288 with 1 Axes>"
      ]
     },
     "metadata": {
      "needs_background": "light"
     },
     "output_type": "display_data"
    }
   ],
   "source": [
    "import therefore\n",
    "import numpy as np\n",
    "import matplotlib.pyplot as plt\n",
    "\n",
    "data_type = np.float64\n",
    "\n",
    "L = 10\n",
    "dx = 1\n",
    "xsec = 100\n",
    "ratio = .995\n",
    "scattering_xsec = xsec*ratio\n",
    "source = 5\n",
    "N_mesh = int(L/dx)\n",
    "\n",
    "# TODO: Mesh building\n",
    "dx_mesh = dx*np.ones(N_mesh, data_type)\n",
    "xsec_mesh = xsec*np.ones(N_mesh, data_type)\n",
    "xsec_scatter_mesh = scattering_xsec*np.ones(N_mesh, data_type)\n",
    "source_mesh = source*np.ones(N_mesh, data_type)\n",
    "\n",
    "sim_perams = {'data_type': data_type,\n",
    "              'N_angles': 80,\n",
    "              'L': L,\n",
    "              'N_mesh': N_mesh,\n",
    "              'boundary_condition_left': 'incident_ani',\n",
    "              'boundary_condition_right': 'reflecting',\n",
    "              'left_in_mag': 10,\n",
    "              'right_in_mag': 0,\n",
    "              'left_in_angle': 1,\n",
    "              'right_in_angle': 0}\n",
    "\n",
    "[scalar_flux, current] = therefore.SourceItteration(sim_perams, dx_mesh, xsec_mesh, xsec_scatter_mesh, source_mesh)\n",
    "\n",
    "X = np.linspace(0, 8, int(N_mesh*2+1))\n",
    "plt.figure(1)\n",
    "flatLinePlot(X, scalar_flux)\n",
    "plt.title('Problem 1: Strong Scatter')\n",
    "plt.xlabel('Distance')\n",
    "plt.ylabel('Scalar Flux')\n",
    "plt.show()\n",
    "\n",
    "X = np.linspace(0, 8, int(N_mesh*2+1))\n",
    "plt.figure(1)\n",
    "flatLinePlot(X, scalar_flux)\n",
    "plt.title('Problem 1: Strong Scatter')\n",
    "plt.xlabel('Distance')\n",
    "plt.ylabel('Current')\n",
    "plt.show()\n"
   ]
  },
  {
   "cell_type": "markdown",
   "id": "6261b253",
   "metadata": {},
   "source": [
    "# Problem 1b\n",
    "\n",
    "\n",
    "Same as 1a only now with 100 cells!"
   ]
  },
  {
   "cell_type": "code",
   "execution_count": 7,
   "id": "fc30bf35",
   "metadata": {},
   "outputs": [
    {
     "name": "stdout",
     "output_type": "stream",
     "text": [
      "\n",
      "|  ______    __  __    ______    ____     ______    ______   ____     ____     ______\n",
      "| /_  __/   / / / /   / ____/   / __ \\   / ____/   / ____/  / __ \\   / __ \\   / ____/\n",
      "|  / /     / /_/ /   / __/     / /_/ /  / __/     / /_     / / / /  / /_/ /  / __/\n",
      "| / /     / __  /   / /___    / _, _/  / /___    / __/    / /_/ /  / _, _/  / /__\n",
      "|/_/     /_/ /_/   /_____/   /_/ |_|  /_____/   /_/       \\____/  /_/ |_|  /_____/\n",
      "\n",
      "A Python Based Simplified Corner Balence Code\n",
      "Author: Jackson P. Morgan\n",
      "Prof:   Todd S. Palmer\n",
      "Date:   May 9th 2022\n",
      "\n",
      "\n",
      "\n",
      "\n",
      "Next Itteration: 1706\r"
     ]
    },
    {
     "data": {
      "image/png": "[encoded data removed]",
      "text/plain": [
       "<Figure size 432x288 with 1 Axes>"
      ]
     },
     "metadata": {
      "needs_background": "light"
     },
     "output_type": "display_data"
    },
    {
     "data": {
      "image/png": "[encoded data removed]",
      "text/plain": [
       "<Figure size 432x288 with 1 Axes>"
      ]
     },
     "metadata": {
      "needs_background": "light"
     },
     "output_type": "display_data"
    }
   ],
   "source": [
    "import therefore\n",
    "import numpy as np\n",
    "import matplotlib.pyplot as plt\n",
    "\n",
    "data_type = np.float64\n",
    "\n",
    "L = 10\n",
    "dx = .1\n",
    "xsec = 100\n",
    "ratio = .995\n",
    "scattering_xsec = xsec*ratio\n",
    "source = 5\n",
    "N_mesh = int(L/dx)\n",
    "\n",
    "# TODO: Mesh building\n",
    "dx_mesh = dx*np.ones(N_mesh, data_type)\n",
    "xsec_mesh = xsec*np.ones(N_mesh, data_type)\n",
    "xsec_scatter_mesh = scattering_xsec*np.ones(N_mesh, data_type)\n",
    "source_mesh = source*np.ones(N_mesh, data_type)\n",
    "\n",
    "sim_perams = {'data_type': data_type,\n",
    "              'N_angles': 4,\n",
    "              'L': L,\n",
    "              'N_mesh': N_mesh,\n",
    "              'boundary_condition_left': 'incident_ani',\n",
    "              'boundary_condition_right': 'reflecting',\n",
    "              'left_in_mag': 10,\n",
    "              'right_in_mag': 0,\n",
    "              'left_in_angle': 1,\n",
    "              'right_in_angle': 0}\n",
    "\n",
    "[scalar_flux, current] = therefore.SourceItteration(sim_perams, dx_mesh, xsec_mesh, xsec_scatter_mesh, source_mesh)\n",
    "\n",
    "X = np.linspace(0, 8, int(N_mesh*2+1))\n",
    "plt.figure(1)\n",
    "flatLinePlot(X, scalar_flux)\n",
    "plt.title('Problem 1: Strong Scatter')\n",
    "plt.xlabel('Distance')\n",
    "plt.ylabel('Scalar Flux')\n",
    "plt.show()\n",
    "\n",
    "X = np.linspace(0, 8, int(N_mesh*2+1))\n",
    "plt.figure(1)\n",
    "flatLinePlot(X, scalar_flux)\n",
    "plt.title('Problem 1: Strong Scatter')\n",
    "plt.xlabel('Distance')\n",
    "plt.ylabel('Current')\n",
    "plt.show()\n"
   ]
  },
  {
   "cell_type": "markdown",
   "id": "cb67e2dc",
   "metadata": {},
   "source": [
    "# Reed's Problem:"
   ]
  },
  {
   "cell_type": "code",
   "execution_count": 9,
   "id": "3587dfec",
   "metadata": {},
   "outputs": [
    {
     "name": "stderr",
     "output_type": "stream",
     "text": [
      "/tmp/ipykernel_22702/2712955787.py:11: RuntimeWarning: divide by zero encountered in true_divide\n",
      "  dx = .1/sigma_t\n"
     ]
    },
    {
     "name": "stdout",
     "output_type": "stream",
     "text": [
      "\n",
      "|  ______    __  __    ______    ____     ______    ______   ____     ____     ______\n",
      "| /_  __/   / / / /   / ____/   / __ \\   / ____/   / ____/  / __ \\   / __ \\   / ____/\n",
      "|  / /     / /_/ /   / __/     / /_/ /  / __/     / /_     / / / /  / /_/ /  / __/\n",
      "| / /     / __  /   / /___    / _, _/  / /___    / __/    / /_/ /  / _, _/  / /__\n",
      "|/_/     /_/ /_/   /_____/   /_/ |_|  /_____/   /_/       \\____/  /_/ |_|  /_____/\n",
      "\n",
      "A Python Based Simplified Corner Balence Code\n",
      "Author: Jackson P. Morgan\n",
      "Prof:   Todd S. Palmer\n",
      "Date:   May 9th 2022\n",
      "\n",
      "\n",
      "\n",
      "\n",
      "Next Itteration: 62\r"
     ]
    },
    {
     "data": {
      "image/png": "[encoded data removed]",
      "text/plain": [
       "<Figure size 432x288 with 1 Axes>"
      ]
     },
     "metadata": {
      "needs_background": "light"
     },
     "output_type": "display_data"
    },
    {
     "data": {
      "image/png": "[encoded data removed]",
      "text/plain": [
       "<Figure size 432x288 with 1 Axes>"
      ]
     },
     "metadata": {
      "needs_background": "light"
     },
     "output_type": "display_data"
    }
   ],
   "source": [
    "import numpy as np\n",
    "import matplotlib.pyplot as plt\n",
    "\n",
    "#mesh builder for Reed's Problem\n",
    "region_id = np.array([1,2,3,4,5], int)\n",
    "region_widths = np.array([2,2,1,1,2], int)\n",
    "region_bounds = np.array([2,4,5,6,8], float)\n",
    "sigma_s = np.array([.9, .9, 0, 0, 0], data_type)\n",
    "sigma_t = np.array([1, 1, 0, 5, 50], data_type)\n",
    "Source = np.array([0, 1, 0, 0, 50], data_type)\n",
    "dx = .1/sigma_t\n",
    "dx[2] = .25\n",
    "N_region = np.array(region_widths/dx, int)\n",
    "\n",
    "N_mesh: int = sum(N_region)\n",
    "\n",
    "xsec_mesh = np.empty(N_mesh, data_type)\n",
    "xsec_scatter_mesh = np.empty(N_mesh, data_type)\n",
    "dx_mesh = np.empty(N_mesh, data_type)\n",
    "source_mesh = np.empty(N_mesh, data_type)\n",
    "region_id_mesh = np.empty(N_mesh, data_type)\n",
    "\n",
    "for i in range(region_widths.size):\n",
    "    LB = sum(N_region[:i])\n",
    "    RB = sum(N_region[:i+1])\n",
    "    xsec_mesh[LB:RB] = sigma_t[i]\n",
    "    xsec_scatter_mesh[LB:RB] = sigma_s[i]\n",
    "    dx_mesh[LB:RB] = dx[i]\n",
    "    source_mesh[LB:RB] = Source[i]\n",
    "    region_id_mesh[LB:RB] = region_id[i]\n",
    "\n",
    "sim_perams = {'data_type': data_type,\n",
    "              'N_angles': 200,\n",
    "              'L': L,\n",
    "              'N_mesh': N_mesh,\n",
    "              'boundary_condition_left': 'vacuum',\n",
    "              'boundary_condition_right': 'reflecting',\n",
    "              'left_in_mag': 0,\n",
    "              'right_in_mag': 0,\n",
    "              'left_in_angle': 0,\n",
    "              'right_in_angle': 0}\n",
    "\n",
    "\n",
    "[scalar_flux, current] = therefore.SourceItteration(sim_perams, dx_mesh, xsec_mesh, xsec_scatter_mesh, source_mesh)\n",
    "\n",
    "\n",
    "Y_reg = [0, max(scalar_flux)*1.25]\n",
    "X_reg = [0,0]\n",
    "\n",
    "x_plot = np.zeros(N_mesh*2+1)\n",
    "for i in range(N_mesh):\n",
    "    x_plot[2*i] = sum(dx_mesh[:i])\n",
    "    x_plot[2*i+1] = sum(dx_mesh[:i+1])\n",
    "x_plot[-1] = 8.00001\n",
    "\n",
    "f += 1\n",
    "plt.figure(f)\n",
    "flatLinePlot(x_plot, scalar_flux)\n",
    "plt.title('Problem 2: Reeds Problem')\n",
    "plt.xlabel('Distance')\n",
    "plt.ylabel('Scalar Flux')\n",
    "# plot region demarkers\n",
    "for i in range(5):\n",
    "    X_reg[0] = region_bounds[i]\n",
    "    X_reg[1] = region_bounds[i]\n",
    "    plt.plot(X_reg, Y_reg, c='lightgrey')\n",
    "plt.show()\n",
    "\n",
    "Y_reg = [min(current)*1.25, max(current)*1.25]\n",
    "X_reg = [0,0]\n",
    "\n",
    "f+=1\n",
    "plt.figure(f)\n",
    "plt.figure(f)\n",
    "flatLinePlot(x_plot, current)\n",
    "plt.title('Problem 2: Reeds Problem')\n",
    "plt.xlabel('Distance')\n",
    "plt.ylabel('Current')\n",
    "# plot region demarkers\n",
    "for i in range(5):\n",
    "    X_reg[0] = region_bounds[i]\n",
    "    X_reg[1] = region_bounds[i]\n",
    "    plt.plot(X_reg, Y_reg, c='lightgrey')\n",
    "plt.show()"
   ]
  },
  {
   "cell_type": "code",
   "execution_count": null,
   "id": "9086ec53",
   "metadata": {},
   "outputs": [],
   "source": []
  }
 ],
 "metadata": {
  "kernelspec": {
   "display_name": "Python 3 (ipykernel)",
   "language": "python",
   "name": "python3"
  },
  "language_info": {
   "codemirror_mode": {
    "name": "ipython",
    "version": 3
   },
   "file_extension": ".py",
   "mimetype": "text/x-python",
   "name": "python",
   "nbconvert_exporter": "python",
   "pygments_lexer": "ipython3",
   "version": "3.9.7"
  }
 },
 "nbformat": 4,
 "nbformat_minor": 5
}
