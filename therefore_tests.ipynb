{
 "cells": [
  {
   "cell_type": "markdown",
   "id": "d458676c",
   "metadata": {},
   "source": [
    "# Problem 1"
   ]
  },
  {
   "cell_type": "code",
   "execution_count": 11,
   "id": "0f0a0b11",
   "metadata": {},
   "outputs": [
    {
     "ename": "FileNotFoundError",
     "evalue": "[Errno 2] No such file or directory: 'title_print.txt'",
     "output_type": "error",
     "traceback": [
      "\u001b[0;31m---------------------------------------------------------------------------\u001b[0m",
      "\u001b[0;31mFileNotFoundError\u001b[0m                         Traceback (most recent call last)",
      "\u001b[0;32m/tmp/ipykernel_27495/1552876648.py\u001b[0m in \u001b[0;36m<module>\u001b[0;34m\u001b[0m\n\u001b[1;32m     30\u001b[0m               'right_in_angle': 0}\n\u001b[1;32m     31\u001b[0m \u001b[0;34m\u001b[0m\u001b[0m\n\u001b[0;32m---> 32\u001b[0;31m \u001b[0;34m[\u001b[0m\u001b[0mscalar_flux\u001b[0m\u001b[0;34m,\u001b[0m \u001b[0mcurrent\u001b[0m\u001b[0;34m]\u001b[0m \u001b[0;34m=\u001b[0m \u001b[0mtherefore\u001b[0m\u001b[0;34m.\u001b[0m\u001b[0mSourceItteration\u001b[0m\u001b[0;34m(\u001b[0m\u001b[0msim_perams\u001b[0m\u001b[0;34m,\u001b[0m \u001b[0mdx_mesh\u001b[0m\u001b[0;34m,\u001b[0m \u001b[0mxsec_mesh\u001b[0m\u001b[0;34m,\u001b[0m \u001b[0mxsec_scatter_mesh\u001b[0m\u001b[0;34m,\u001b[0m \u001b[0msource_mesh\u001b[0m\u001b[0;34m)\u001b[0m\u001b[0;34m\u001b[0m\u001b[0;34m\u001b[0m\u001b[0m\n\u001b[0m\u001b[1;32m     33\u001b[0m \u001b[0;34m\u001b[0m\u001b[0m\n\u001b[1;32m     34\u001b[0m \u001b[0mX\u001b[0m \u001b[0;34m=\u001b[0m \u001b[0mnp\u001b[0m\u001b[0;34m.\u001b[0m\u001b[0mlinspace\u001b[0m\u001b[0;34m(\u001b[0m\u001b[0;36m0\u001b[0m\u001b[0;34m,\u001b[0m \u001b[0;36m8\u001b[0m\u001b[0;34m,\u001b[0m \u001b[0mint\u001b[0m\u001b[0;34m(\u001b[0m\u001b[0mN_mesh\u001b[0m\u001b[0;34m*\u001b[0m\u001b[0;36m2\u001b[0m\u001b[0;34m)\u001b[0m\u001b[0;34m)\u001b[0m\u001b[0;34m\u001b[0m\u001b[0;34m\u001b[0m\u001b[0m\n",
      "\u001b[0;32m~/Documents/NSE654/Therefore/therefore/main.py\u001b[0m in \u001b[0;36mSourceItteration\u001b[0;34m(sim_perams, dx_mesh, xsec_mesh, xsec_scatter_mesh, source_mesh)\u001b[0m\n\u001b[1;32m    148\u001b[0m \u001b[0;32mdef\u001b[0m \u001b[0mSourceItteration\u001b[0m\u001b[0;34m(\u001b[0m\u001b[0msim_perams\u001b[0m\u001b[0;34m,\u001b[0m \u001b[0mdx_mesh\u001b[0m\u001b[0;34m,\u001b[0m \u001b[0mxsec_mesh\u001b[0m\u001b[0;34m,\u001b[0m \u001b[0mxsec_scatter_mesh\u001b[0m\u001b[0;34m,\u001b[0m \u001b[0msource_mesh\u001b[0m\u001b[0;34m)\u001b[0m\u001b[0;34m:\u001b[0m\u001b[0;34m\u001b[0m\u001b[0;34m\u001b[0m\u001b[0m\n\u001b[1;32m    149\u001b[0m \u001b[0;34m\u001b[0m\u001b[0m\n\u001b[0;32m--> 150\u001b[0;31m \u001b[0;34m\u001b[0m\u001b[0m\n\u001b[0m\u001b[1;32m    151\u001b[0m \u001b[0;34m\u001b[0m\u001b[0m\n\u001b[1;32m    152\u001b[0m     \u001b[0;31m#Inputs\u001b[0m\u001b[0;34m\u001b[0m\u001b[0;34m\u001b[0m\u001b[0m\n",
      "\u001b[0;31mFileNotFoundError\u001b[0m: [Errno 2] No such file or directory: 'title_print.txt'"
     ]
    }
   ],
   "source": [
    "import therefore\n",
    "import numpy as np\n",
    "import matplotlib.pyplot as plt\n",
    "\n",
    "data_type = np.float64\n",
    "\n",
    "L = 10\n",
    "dx = .1\n",
    "xsec = 100\n",
    "ratio = .995\n",
    "scattering_xsec = xsec*ratio\n",
    "source = 5\n",
    "N_mesh = int(L/dx)\n",
    "\n",
    "# TODO: Mesh building\n",
    "dx_mesh = dx*np.ones(N_mesh, data_type)\n",
    "xsec_mesh = xsec*np.ones(N_mesh, data_type)\n",
    "xsec_scatter_mesh = scattering_xsec*np.ones(N_mesh, data_type)\n",
    "source_mesh = source*np.ones(N_mesh, data_type)\n",
    "\n",
    "sim_perams = {'data_type': data_type,\n",
    "              'N_angles': 4,\n",
    "              'L': L,\n",
    "              'N_mesh': N_mesh,\n",
    "              'boundary_condition_left': 'incident_ani',\n",
    "              'boundary_condition_right': 'reflecting',\n",
    "              'left_in_mag': 20,\n",
    "              'right_in_mag': 0,\n",
    "              'left_in_angle': 0,\n",
    "              'right_in_angle': 0}\n",
    "\n",
    "[scalar_flux, current] = therefore.SourceItteration(sim_perams, dx_mesh, xsec_mesh, xsec_scatter_mesh, source_mesh)\n",
    "\n",
    "X = np.linspace(0, 8, int(N_mesh*2))\n",
    "plt.figure(1)\n",
    "plt.plot(X, scalar_flux)\n",
    "\n",
    "'''\n",
    "Y_reg = [0, max(scalar_flux)*1.5]\n",
    "X_reg = [0,0]\n",
    "for i in range(5):\n",
    "    X_reg[0] = region_bounds[i]\n",
    "    X_reg[1] = region_bounds[i]\n",
    "    plt.plot(X_reg, Y_reg, 'k-')\n",
    "'''\n",
    "\n",
    "plt.ylim([0,max(scalar_flux)*1.25])\n",
    "plt.show()\n",
    "print('plotted')\n"
   ]
  },
  {
   "cell_type": "markdown",
   "id": "cb67e2dc",
   "metadata": {},
   "source": [
    "# Reed's Problem:"
   ]
  },
  {
   "cell_type": "code",
   "execution_count": null,
   "id": "3587dfec",
   "metadata": {},
   "outputs": [],
   "source": [
    "#mesh builder for Reed's Problem\n",
    "region_id = np.array([1,2,3,4,5], int)\n",
    "region_widths = np.array([2,2,1,1,2], int)\n",
    "region_bounds = np.array([2,4,5,6,8], float)\n",
    "sigma_s = np.array([.9, .9, 0, 0, 0], data_type)\n",
    "sigma_t = np.array([1, 1, 0, 5, 50], data_type)\n",
    "Source = np.array([0, 1, 0, 0, 50], data_type)\n",
    "dx = .1/sigma_t\n",
    "dx[2] = .25\n",
    "N_region = np.array(region_widths/dx, int)\n",
    "\n",
    "N_mesh: int = sum(N_region)\n",
    "\n",
    "xsec_mesh = np.empty(N_mesh, data_type)\n",
    "xsec_scatter_mesh = np.empty(N_mesh, data_type)\n",
    "dx_mesh = np.empty(N_mesh, data_type)\n",
    "source_mesh = np.empty(N_mesh, data_type)\n",
    "region_id_mesh = np.empty(N_mesh, data_type)\n",
    "\n",
    "for i in range(region_widths.size):\n",
    "    LB = sum(N_region[:i])\n",
    "    RB = sum(N_region[:i+1])\n",
    "    xsec_mesh[LB:RB] = sigma_t[i]\n",
    "    xsec_scatter_mesh[LB:RB] = sigma_s[i]\n",
    "    dx_mesh[LB:RB] = dx[i]\n",
    "    source_mesh[LB:RB] = Source[i]\n",
    "    region_id_mesh[LB:RB] = region_id[i]\n",
    "\n",
    "\n",
    "boundary_condition_left =  'vacuum' #incident_iso\n",
    "boundary_condition_right = 'reflecting' #'reflecting'"
   ]
  }
 ],
 "metadata": {
  "kernelspec": {
   "display_name": "Python 3 (ipykernel)",
   "language": "python",
   "name": "python3"
  },
  "language_info": {
   "codemirror_mode": {
    "name": "ipython",
    "version": 3
   },
   "file_extension": ".py",
   "mimetype": "text/x-python",
   "name": "python",
   "nbconvert_exporter": "python",
   "pygments_lexer": "ipython3",
   "version": "3.9.7"
  }
 },
 "nbformat": 4,
 "nbformat_minor": 5
}
